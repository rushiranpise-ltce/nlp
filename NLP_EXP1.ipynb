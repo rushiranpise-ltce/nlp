{
  "cells": [
    {
      "cell_type": "markdown",
      "metadata": {
        "id": "view-in-github",
        "colab_type": "text"
      },
      "source": [
        "<a href=\"https://colab.research.google.com/github/rushiranpise-ltce/nlp/blob/main/NLP_EXP1.ipynb\" target=\"_parent\"><img src=\"https://colab.research.google.com/assets/colab-badge.svg\" alt=\"Open In Colab\"/></a>"
      ]
    },
    {
      "cell_type": "code",
      "source": [
        "!sudo apt-get update && sudo apt-get upgrade -y"
      ],
      "metadata": {
        "id": "HHbpjF2n9Bo_"
      },
      "execution_count": null,
      "outputs": []
    },
    {
      "cell_type": "code",
      "source": [
        "!sudo apt-get install python3 python3-pip ipython3 -y"
      ],
      "metadata": {
        "id": "dR3vX8Jw9OW-",
        "collapsed": true
      },
      "execution_count": null,
      "outputs": []
    },
    {
      "cell_type": "code",
      "source": [
        "!pip3 install jupyter"
      ],
      "metadata": {
        "id": "lkqPUvpm9b0R"
      },
      "execution_count": null,
      "outputs": []
    },
    {
      "cell_type": "code",
      "source": [
        "!jupyter notebook --allow-root"
      ],
      "metadata": {
        "id": "-JjQ_4Er9fpQ"
      },
      "execution_count": null,
      "outputs": []
    },
    {
      "cell_type": "code",
      "source": [
        "!pip install -U pip setuptools wheel\n",
        "!pip install -U spacy\n",
        "!python -m spacy download en_core_web_sm"
      ],
      "metadata": {
        "id": "2BgN_6xj_cnN"
      },
      "execution_count": null,
      "outputs": []
    },
    {
      "cell_type": "code",
      "source": [
        "!python -m spacy validate"
      ],
      "metadata": {
        "id": "a1_Cn4BBCtLu"
      },
      "execution_count": null,
      "outputs": []
    },
    {
      "cell_type": "code",
      "source": [
        "import spacy\n",
        "nlp = spacy.blank(\"en\")\n",
        "doc = nlp(\"Hi I Am Rushi\")\n",
        "for token in doc:\n",
        "    print(token)"
      ],
      "metadata": {
        "id": "yqJbXhYFDiaF"
      },
      "execution_count": null,
      "outputs": []
    },
    {
      "cell_type": "code",
      "source": [
        "import spacy\n",
        "nlp = spacy.blank(\"en\")\n",
        "doc = nlp('''\"Let's go to U.K\"''')\n",
        "for token in doc:\n",
        "    print(token)"
      ],
      "metadata": {
        "id": "UwDa4-9bEmVx"
      },
      "execution_count": null,
      "outputs": []
    },
    {
      "cell_type": "code",
      "source": [
        "import spacy\n",
        "nlp = spacy.blank(\"en\")\n",
        "doc = nlp('''\"Let's go to U.K\"''')\n",
        "for token in doc[1:3]:\n",
        "    print(token)"
      ],
      "metadata": {
        "id": "HzMtx9L2D6ro"
      },
      "execution_count": null,
      "outputs": []
    },
    {
      "cell_type": "code",
      "source": [
        "import spacy\n",
        "nlp = spacy.blank(\"hi\")\n",
        "doc = nlp(\"नमस्ते आप कैसे हैं\")\n",
        "for token in doc:\n",
        "    print(token)\n",
        "#type(nlp)\n",
        "#type(doc)\n",
        "type(token)"
      ],
      "metadata": {
        "id": "h9g8o9ShGorv"
      },
      "execution_count": null,
      "outputs": []
    },
    {
      "cell_type": "code",
      "source": [
        "import spacy\n",
        "nlp = spacy.blank(\"en\")\n",
        "doc = nlp(\"Jhon gave 5 $ to Peter\")\n",
        "token0 = doc[2]\n",
        "print(token0)\n",
        "token0.is_alpha\n",
        "token0.like_num"
      ],
      "metadata": {
        "id": "9eFHlkWbHnqa"
      },
      "execution_count": null,
      "outputs": []
    },
    {
      "cell_type": "code",
      "source": [
        "dir(token)"
      ],
      "metadata": {
        "id": "XTyf0gVgJErh"
      },
      "execution_count": null,
      "outputs": []
    },
    {
      "cell_type": "code",
      "source": [
        "import spacy\n",
        "nlp = spacy.blank(\"en\")\n",
        "doc = nlp(\"Jhon gave 5 $ to Peter\")\n",
        "for token in doc:\n",
        "   print(token,\"=>\",\"index:\",token.i,\n",
        "         \"is_alpha\",token.is_alpha,\n",
        "         \"is_punct\",token.is_punct,\n",
        "         \"like_num\",token.like_num,\n",
        "         \"is_currency\",token.is_currency)"
      ],
      "metadata": {
        "id": "KDXckYY0JWkp"
      },
      "execution_count": null,
      "outputs": []
    }
  ],
  "metadata": {
    "colab": {
      "collapsed_sections": [],
      "name": "NLP EXP1",
      "provenance": [],
      "include_colab_link": true
    },
    "kernelspec": {
      "display_name": "Python 3",
      "name": "python3"
    }
  },
  "nbformat": 4,
  "nbformat_minor": 0
}