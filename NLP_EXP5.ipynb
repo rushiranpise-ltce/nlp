{
  "nbformat": 4,
  "nbformat_minor": 0,
  "metadata": {
    "colab": {
      "name": "NLP_EXP5.ipynb",
      "provenance": [],
      "authorship_tag": "ABX9TyN3JYCnuSyB9z599pcFKgrp",
      "include_colab_link": true
    },
    "kernelspec": {
      "name": "python3",
      "display_name": "Python 3"
    },
    "language_info": {
      "name": "python"
    }
  },
  "cells": [
    {
      "cell_type": "markdown",
      "metadata": {
        "id": "view-in-github",
        "colab_type": "text"
      },
      "source": [
        "<a href=\"https://colab.research.google.com/github/rushiranpise-ltce/nlp/blob/main/NLP_EXP5.ipynb\" target=\"_parent\"><img src=\"https://colab.research.google.com/assets/colab-badge.svg\" alt=\"Open In Colab\"/></a>"
      ]
    },
    {
      "cell_type": "code",
      "execution_count": 2,
      "metadata": {
        "colab": {
          "base_uri": "https://localhost:8080/"
        },
        "id": "IJ-xpYeMrfz_",
        "outputId": "11269966-ae89-412c-9a29-6bf3c78bba14"
      },
      "outputs": [
        {
          "output_type": "stream",
          "name": "stderr",
          "text": [
            "[nltk_data] Downloading package punkt to /root/nltk_data...\n",
            "[nltk_data]   Unzipping tokenizers/punkt.zip.\n"
          ]
        },
        {
          "output_type": "execute_result",
          "data": {
            "text/plain": [
              "True"
            ]
          },
          "metadata": {},
          "execution_count": 2
        }
      ],
      "source": [
        "import nltk\n",
        "nltk.download('punkt')"
      ]
    },
    {
      "cell_type": "code",
      "source": [
        "from nltk.util import bigrams, trigrams, ngrams\n",
        "string = \"Language modeling is the way of determining the probability of any sequence of words\"\n",
        "tokens = nltk.word_tokenize(string)\n",
        "tokens"
      ],
      "metadata": {
        "colab": {
          "base_uri": "https://localhost:8080/"
        },
        "id": "6L2dfW_hsP0I",
        "outputId": "2248f762-eb83-485d-ba04-672b707d4c1e"
      },
      "execution_count": 4,
      "outputs": [
        {
          "output_type": "execute_result",
          "data": {
            "text/plain": [
              "['Language',\n",
              " 'modeling',\n",
              " 'is',\n",
              " 'the',\n",
              " 'way',\n",
              " 'of',\n",
              " 'determining',\n",
              " 'the',\n",
              " 'probability',\n",
              " 'of',\n",
              " 'any',\n",
              " 'sequence',\n",
              " 'of',\n",
              " 'words']"
            ]
          },
          "metadata": {},
          "execution_count": 4
        }
      ]
    },
    {
      "cell_type": "code",
      "source": [
        "bigram = list(nltk.bigrams(tokens))\n",
        "bigram"
      ],
      "metadata": {
        "colab": {
          "base_uri": "https://localhost:8080/"
        },
        "id": "dNzEcOdwsQGS",
        "outputId": "dffd0b50-c4c9-4d07-86c2-3bc2b5385e06"
      },
      "execution_count": 5,
      "outputs": [
        {
          "output_type": "execute_result",
          "data": {
            "text/plain": [
              "[('Language', 'modeling'),\n",
              " ('modeling', 'is'),\n",
              " ('is', 'the'),\n",
              " ('the', 'way'),\n",
              " ('way', 'of'),\n",
              " ('of', 'determining'),\n",
              " ('determining', 'the'),\n",
              " ('the', 'probability'),\n",
              " ('probability', 'of'),\n",
              " ('of', 'any'),\n",
              " ('any', 'sequence'),\n",
              " ('sequence', 'of'),\n",
              " ('of', 'words')]"
            ]
          },
          "metadata": {},
          "execution_count": 5
        }
      ]
    },
    {
      "cell_type": "code",
      "source": [
        "trigram = list(nltk.trigrams(tokens))\n",
        "trigram"
      ],
      "metadata": {
        "colab": {
          "base_uri": "https://localhost:8080/"
        },
        "id": "FIF4AnI_sWte",
        "outputId": "a0f2e039-801b-4271-dd41-51a2ec78905c"
      },
      "execution_count": 7,
      "outputs": [
        {
          "output_type": "execute_result",
          "data": {
            "text/plain": [
              "[('Language', 'modeling', 'is'),\n",
              " ('modeling', 'is', 'the'),\n",
              " ('is', 'the', 'way'),\n",
              " ('the', 'way', 'of'),\n",
              " ('way', 'of', 'determining'),\n",
              " ('of', 'determining', 'the'),\n",
              " ('determining', 'the', 'probability'),\n",
              " ('the', 'probability', 'of'),\n",
              " ('probability', 'of', 'any'),\n",
              " ('of', 'any', 'sequence'),\n",
              " ('any', 'sequence', 'of'),\n",
              " ('sequence', 'of', 'words')]"
            ]
          },
          "metadata": {},
          "execution_count": 7
        }
      ]
    },
    {
      "cell_type": "code",
      "source": [
        "ngram = list(nltk.ngrams(tokens, 5))\n",
        "ngram"
      ],
      "metadata": {
        "colab": {
          "base_uri": "https://localhost:8080/"
        },
        "id": "DStGqJBlsR0J",
        "outputId": "1bbc0330-35ea-4977-e836-cb3ec2da7eea"
      },
      "execution_count": 8,
      "outputs": [
        {
          "output_type": "execute_result",
          "data": {
            "text/plain": [
              "[('Language', 'modeling', 'is', 'the', 'way'),\n",
              " ('modeling', 'is', 'the', 'way', 'of'),\n",
              " ('is', 'the', 'way', 'of', 'determining'),\n",
              " ('the', 'way', 'of', 'determining', 'the'),\n",
              " ('way', 'of', 'determining', 'the', 'probability'),\n",
              " ('of', 'determining', 'the', 'probability', 'of'),\n",
              " ('determining', 'the', 'probability', 'of', 'any'),\n",
              " ('the', 'probability', 'of', 'any', 'sequence'),\n",
              " ('probability', 'of', 'any', 'sequence', 'of'),\n",
              " ('of', 'any', 'sequence', 'of', 'words')]"
            ]
          },
          "metadata": {},
          "execution_count": 8
        }
      ]
    }
  ]
}