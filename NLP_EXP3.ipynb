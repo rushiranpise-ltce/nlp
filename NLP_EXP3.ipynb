{
  "nbformat": 4,
  "nbformat_minor": 0,
  "metadata": {
    "colab": {
      "name": "NLP_EXP3.ipynb",
      "provenance": [],
      "authorship_tag": "ABX9TyMltJ2BImiesc0wf0Hn9xhX",
      "include_colab_link": true
    },
    "kernelspec": {
      "name": "python3",
      "display_name": "Python 3"
    },
    "language_info": {
      "name": "python"
    }
  },
  "cells": [
    {
      "cell_type": "markdown",
      "metadata": {
        "id": "view-in-github",
        "colab_type": "text"
      },
      "source": [
        "<a href=\"https://colab.research.google.com/github/rushiranpise-ltce/nlp/blob/main/NLP_EXP3.ipynb\" target=\"_parent\"><img src=\"https://colab.research.google.com/assets/colab-badge.svg\" alt=\"Open In Colab\"/></a>"
      ]
    },
    {
      "cell_type": "code",
      "execution_count": 77,
      "metadata": {
        "id": "rDaGMKjvsWOD"
      },
      "outputs": [],
      "source": [
        "\n",
        "import re\n",
        "chat1 ='ltce : you ask questions but send me no and mail id please :)1234567812,abc1@xyz.com'\n",
        "chat2 ='ltce : here it is: (123)-567-8912 email: abc2@xyz.com'\n",
        "chat3 ='ltce: yes , phone: 123456789 email: abc3@xyz.com'"
      ]
    },
    {
      "cell_type": "code",
      "source": [
        "pattern='\\d{10}'\n",
        "match = re.findall(pattern,chat1)\n",
        "match"
      ],
      "metadata": {
        "colab": {
          "base_uri": "https://localhost:8080/"
        },
        "id": "R1wfJ1e4y8WP",
        "outputId": "efeb7ff1-a8ce-4090-9215-0293e6591055"
      },
      "execution_count": 59,
      "outputs": [
        {
          "output_type": "execute_result",
          "data": {
            "text/plain": [
              "['1234567812']"
            ]
          },
          "metadata": {},
          "execution_count": 59
        }
      ]
    },
    {
      "cell_type": "code",
      "source": [
        "pattern='\\d{10}|\\((\\d{3}\\))-(\\d{3})-(\\d{4})'\n",
        "match = re.findall(pattern,chat2)\n",
        "match"
      ],
      "metadata": {
        "colab": {
          "base_uri": "https://localhost:8080/"
        },
        "id": "2XmOJ6pTzUl2",
        "outputId": "e341e36c-1d61-41e8-a687-9e99a512d19a"
      },
      "execution_count": 92,
      "outputs": [
        {
          "output_type": "execute_result",
          "data": {
            "text/plain": [
              "[('123)', '567', '8912')]"
            ]
          },
          "metadata": {},
          "execution_count": 92
        }
      ]
    },
    {
      "cell_type": "code",
      "source": [
        "pattern='[a-z0-9A-Z_]*@[a-z0-9A-Z]*\\.[a-zA-Z]*'\n",
        "match = re.findall(pattern,chat3)\n",
        "match"
      ],
      "metadata": {
        "colab": {
          "base_uri": "https://localhost:8080/"
        },
        "id": "dxN4ycjd0Kfx",
        "outputId": "50fcd896-f519-4a5a-ba99-a3117e66f2d2"
      },
      "execution_count": 61,
      "outputs": [
        {
          "output_type": "execute_result",
          "data": {
            "text/plain": [
              "['abc3@xyz.com']"
            ]
          },
          "metadata": {},
          "execution_count": 61
        }
      ]
    }
  ]
}