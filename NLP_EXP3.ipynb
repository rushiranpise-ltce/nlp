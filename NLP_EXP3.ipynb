{
  "nbformat": 4,
  "nbformat_minor": 0,
  "metadata": {
    "colab": {
      "name": "NLP_EXP3.ipynb",
      "provenance": [],
      "authorship_tag": "ABX9TyOcsVME6G6Drx8BKSOQEnXt",
      "include_colab_link": true
    },
    "kernelspec": {
      "name": "python3",
      "display_name": "Python 3"
    },
    "language_info": {
      "name": "python"
    }
  },
  "cells": [
    {
      "cell_type": "markdown",
      "metadata": {
        "id": "view-in-github",
        "colab_type": "text"
      },
      "source": [
        "<a href=\"https://colab.research.google.com/github/rushiranpise-ltce/nlp/blob/main/NLP_EXP3.ipynb\" target=\"_parent\"><img src=\"https://colab.research.google.com/assets/colab-badge.svg\" alt=\"Open In Colab\"/></a>"
      ]
    },
    {
      "cell_type": "code",
      "execution_count": 1,
      "metadata": {
        "id": "rDaGMKjvsWOD"
      },
      "outputs": [],
      "source": [
        "\n",
        "import re\n",
        "chat1='ltce : you ask questions but send me no and mail id please :)1234567812,abc@xyz.com'\n",
        "chat2='ltce : here it is: (123)-567-8912 email: abc@xyz.com'\n",
        "chat3='ltce: yes , phone: 123456789 email: abc@xyz.com'"
      ]
    },
    {
      "cell_type": "code",
      "source": [
        "pattern='\\d{10}'\n",
        "match = re.findall(pattern,chat1)\n",
        "match"
      ],
      "metadata": {
        "colab": {
          "base_uri": "https://localhost:8080/"
        },
        "id": "R1wfJ1e4y8WP",
        "outputId": "a61bc0b2-0af4-4fda-c315-2ba020200e94"
      },
      "execution_count": 4,
      "outputs": [
        {
          "output_type": "execute_result",
          "data": {
            "text/plain": [
              "['1234567812']"
            ]
          },
          "metadata": {},
          "execution_count": 4
        }
      ]
    }
  ]
}