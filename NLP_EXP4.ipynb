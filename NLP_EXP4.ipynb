{
  "nbformat": 4,
  "nbformat_minor": 0,
  "metadata": {
    "colab": {
      "name": "NLP_EXP4.ipynb",
      "provenance": [],
      "authorship_tag": "ABX9TyMfuuuTf1ugonfiUF1WCoHB",
      "include_colab_link": true
    },
    "kernelspec": {
      "name": "python3",
      "display_name": "Python 3"
    },
    "language_info": {
      "name": "python"
    }
  },
  "cells": [
    {
      "cell_type": "markdown",
      "metadata": {
        "id": "view-in-github",
        "colab_type": "text"
      },
      "source": [
        "<a href=\"https://colab.research.google.com/github/rushiranpise-ltce/nlp/blob/main/NLP_EXP4.ipynb\" target=\"_parent\"><img src=\"https://colab.research.google.com/assets/colab-badge.svg\" alt=\"Open In Colab\"/></a>"
      ]
    },
    {
      "cell_type": "code",
      "execution_count": 1,
      "metadata": {
        "id": "xAQu_wMMqLz5"
      },
      "outputs": [],
      "source": [
        "import spacy"
      ]
    },
    {
      "cell_type": "code",
      "source": [
        "nlp=spacy.load('en_core_web_sm')\n",
        "sentence=nlp(\"I like pizza\")\n",
        "print(\"Morphological Anaysis for {} = {} + {} + {}\".format(sentence.text,sentence[0].lemma_, sentence[0].pos_,\n",
        "spacy.explain(sentence[0].tag_)))\n",
        "print(\"Morphological Anaysis for {} = {} + {} + {}\".format(sentence.text,sentence[1].lemma_, sentence[1].pos_,\n",
        "spacy.explain(sentence[1].tag_)))\n",
        "print(\"Morphological Anaysis for {} = {} + {} + {}\".format(sentence.text,sentence[2].lemma_, sentence[2].pos_,\n",
        "spacy.explain(sentence[2].tag_)))"
      ],
      "metadata": {
        "colab": {
          "base_uri": "https://localhost:8080/"
        },
        "id": "nAG_U7jlqkLC",
        "outputId": "81b2c2bd-6d32-4513-ab21-f252ffa6d41f"
      },
      "execution_count": 4,
      "outputs": [
        {
          "output_type": "stream",
          "name": "stdout",
          "text": [
            "Morphological Anaysis for I like pizza = I + PRON + pronoun, personal\n",
            "Morphological Anaysis for I like pizza = like + VERB + verb, non-3rd person singular present\n",
            "Morphological Anaysis for I like pizza = pizza + NOUN + noun, singular or mass\n"
          ]
        }
      ]
    }
  ]
}